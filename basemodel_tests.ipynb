{
  "cells": [
    {
      "cell_type": "code",
      "execution_count": null,
      "metadata": {
        "colab": {
          "base_uri": "https://localhost:8080/"
        },
        "id": "bH1CDUm_Mxya",
        "outputId": "8a0f5a9c-cbe8-43aa-c399-9c76ee959bc5"
      },
      "outputs": [],
      "source": [
        "#Load and install dependencies\n",
        "!pip install mistralai\n",
        "!pip install python-dotenv\n",
        "import os\n",
        "from PIL import Image\n",
        "import base64\n",
        "import matplotlib.pyplot as plt\n",
        "from mistralai import Mistral\n",
        "from dotenv import load_dotenv\n",
        "load_dotenv()"
      ]
    },
    {
      "cell_type": "code",
      "execution_count": null,
      "metadata": {
        "id": "3i1ScDUrM-KK"
      },
      "outputs": [],
      "source": [
        "#Set API key and select model\n",
        "api_key = \"\" #mistral api key. replace with your own key\n",
        "\n",
        "\n",
        "model = \"pixtral-12b-2409\" #replace with finetuned model\n",
        "client = Mistral(api_key=api_key) #mistral api key\n"
      ]
    },
    {
      "cell_type": "code",
      "execution_count": null,
      "metadata": {
        "id": "J4LnNKIKNMSA"
      },
      "outputs": [],
      "source": [
        "#function to encode local images\n",
        "def encode_image_base64(image_path):\n",
        " with open(image_path, \"rb\") as image_file:\n",
        "   return base64.b64encode(image_file.read()).decode(\"utf-8\")"
      ]
    },
    {
      "cell_type": "code",
      "execution_count": null,
      "metadata": {
        "colab": {
          "base_uri": "https://localhost:8080/"
        },
        "id": "SyVScbEPWO81",
        "outputId": "850faa95-597e-44c2-d102-650561d9237d"
      },
      "outputs": [],
      "source": [
        "#load in directory\n",
        "from google.colab import drive\n",
        "drive.mount('/content/drive')\n",
        "\n",
        "!ls /content/drive/MyDrive/clarivex/jpgs/ #replace with file path to your images, either locally or what have you"
      ]
    },
    {
      "cell_type": "code",
      "execution_count": null,
      "metadata": {
        "id": "UvnOxAk3Ns6j"
      },
      "outputs": [],
      "source": [
        "#loop to load in images\n",
        "input_folder = '/content/drive/MyDrive/clarivex/jpgs/'\n",
        "directory = input_folder\n",
        "files = os.listdir(directory)\n",
        "\n",
        "#then encode into readable format for Pixtral and append to a new list of images\n",
        "images = []\n",
        "for i in files:\n",
        "    file_path = os.path.join(directory, i)  # Get full path of the image file\n",
        "    images.append(encode_image_base64(file_path))"
      ]
    },
    {
      "cell_type": "code",
      "execution_count": null,
      "metadata": {
        "id": "g-gJnOQKNM2Z"
      },
      "outputs": [],
      "source": [
        "#extract zero shot labels from diagnostic report\n",
        "\n",
        "def zero_shot_labels(diagnostic_report):\n",
        "  diagnostic_report = diagnostic_report.lower()  # Ensure case-insensitive matching\n",
        "\n",
        "  if \"malignant\" in diagnostic_report:\n",
        "      return \"malignant\"\n",
        "  elif \"benign\" in diagnostic_report:\n",
        "      return \"benign\"\n",
        "  else:\n",
        "      return \"unknown\""
      ]
    },
    {
      "cell_type": "code",
      "execution_count": null,
      "metadata": {
        "colab": {
          "base_uri": "https://localhost:8080/",
          "height": 365
        },
        "id": "dEF_L0ZWNaK2",
        "outputId": "5fa0b752-6e4f-4aa5-ec4f-b9cb029d569d"
      },
      "outputs": [],
      "source": [
        "# Empty list to store results\n",
        "zero_shot_preds = []\n",
        "\n",
        "# Loop through each image and obtain zero shot descriptions\n",
        "for image in images:\n",
        "    chat_response = client.chat.complete(\n",
        "        model=model,\n",
        "        messages=[\n",
        "            {\n",
        "                \"role\": \"user\",\n",
        "                \"content\": [\n",
        "                    {\n",
        "                        \"type\": \"text\",\n",
        "                        \"text\": \"Provide a clinical analysis of the image describing colour, texture, shape, size, and location, as well as clearly stating if you believe it to be malignant or benign.\"\n",
        "                    },\n",
        "                    {\n",
        "                        \"type\": \"image_url\",\n",
        "                        \"image_url\": f\"data:image/jpeg;base64,{image}\"\n",
        "                    }\n",
        "                ]\n",
        "            },\n",
        "        ]\n",
        "    )\n",
        "\n",
        "    # Get the diagnostic report from the response\n",
        "    diagnostic_report = chat_response.choices[0].message.content\n",
        "\n",
        "    # Extract whether the tumor is benign or malignant\n",
        "    zero_shot_prediction = zero_shot_labels(diagnostic_report)\n",
        "\n",
        "    # Append the label to the results list\n",
        "    zero_shot_preds.append(zero_shot_prediction)"
      ]
    },
    {
      "cell_type": "code",
      "execution_count": null,
      "metadata": {
        "colab": {
          "base_uri": "https://localhost:8080/"
        },
        "id": "dRmVQbIfkDfq",
        "outputId": "baeb63bd-4e31-4bf8-d005-786d98e895d0"
      },
      "outputs": [],
      "source": [
        "len(zero_shot_preds)\n"
      ]
    },
    {
      "cell_type": "code",
      "execution_count": null,
      "metadata": {
        "id": "j4GtwrevmKCo"
      },
      "outputs": [],
      "source": [
        "import pandas as pd\n",
        "\n",
        "# Load the CSV file\n",
        "!ls /content/drive/MyDrive/clarivex/ddi_metadata.csv # load in ground truth labels\n",
        "file_path = '/content/drive/MyDrive/clarivex/ddi_metadata.csv'\n",
        "df = pd.read_csv(file_path)\n",
        "\n",
        "# Extract relevant rows of the 'malignant' column\n",
        "malignant_data = df['malignant'][:len(zero_shot_preds)]\n",
        "\n",
        "# Relabel 'True' as 'malignant' and 'False' as 'benign'\n",
        "relabelled_data = malignant_data.apply(lambda x: 'malignant' if x else 'benign')\n",
        "\n",
        "# Convert to list\n",
        "ground_labels = relabelled_data.tolist()"
      ]
    },
    {
      "cell_type": "code",
      "execution_count": null,
      "metadata": {
        "id": "Xs1KsB-gPJ0l"
      },
      "outputs": [],
      "source": [
        "#function to compute accuracy of zero shot predictions\n",
        "\n",
        "def zero_shot_accuracy(output_labels, ground_labels):\n",
        "  if len(output_labels) != len(ground_labels):\n",
        "    raise ValueError(\"Length of predicted and ground truth labels must be the same.\")\n",
        "\n",
        "  # Count correct predictions\n",
        "  correct_predictions = sum([pred == actual for pred, actual in zip(output_labels, ground_labels)])\n",
        "\n",
        "  # Calculate accuracy\n",
        "  accuracy = correct_predictions / len(ground_labels)\n",
        "\n",
        "  return accuracy"
      ]
    },
    {
      "cell_type": "code",
      "execution_count": null,
      "metadata": {
        "colab": {
          "base_uri": "https://localhost:8080/"
        },
        "id": "d3xNCjbxPVx7",
        "outputId": "5d4170e1-6528-432d-cc47-9865fc095f07"
      },
      "outputs": [],
      "source": [
        "# compute accuracy\n",
        "accuracy = zero_shot_accuracy(zero_shot_preds, ground_labels)\n",
        "print(f\"Accuracy: {accuracy * 100:.2f}%\")"
      ]
    }
  ],
  "metadata": {
    "colab": {
      "provenance": []
    },
    "kernelspec": {
      "display_name": "Python 3",
      "name": "python3"
    },
    "language_info": {
      "name": "python"
    }
  },
  "nbformat": 4,
  "nbformat_minor": 0
}
